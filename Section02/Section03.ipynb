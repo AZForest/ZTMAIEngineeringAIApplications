{
 "cells": [
  {
   "cell_type": "code",
   "execution_count": 3,
   "id": "d7e33ee7-81a3-4f9a-a488-32a4c0ffa544",
   "metadata": {},
   "outputs": [
    {
     "name": "stdout",
     "output_type": "stream",
     "text": [
      "\n",
      "\u001b[1m[\u001b[0m\u001b[34;49mnotice\u001b[0m\u001b[1;39;49m]\u001b[0m\u001b[39;49m A new release of pip is available: \u001b[0m\u001b[31;49m25.1.1\u001b[0m\u001b[39;49m -> \u001b[0m\u001b[32;49m25.2\u001b[0m\n",
      "\u001b[1m[\u001b[0m\u001b[34;49mnotice\u001b[0m\u001b[1;39;49m]\u001b[0m\u001b[39;49m To update, run: \u001b[0m\u001b[32;49mpip install --upgrade pip\u001b[0m\n",
      "Note: you may need to restart the kernel to use updated packages.\n"
     ]
    }
   ],
   "source": [
    "pip install openai -q"
   ]
  },
  {
   "cell_type": "code",
   "execution_count": 11,
   "id": "6f65eff2-9be1-43d0-b37b-f0d7c1fb06af",
   "metadata": {},
   "outputs": [],
   "source": [
    "from openai import OpenAI\n",
    "\n",
    "api_key = ''\n",
    "client = OpenAI(api_key=api_key)\n",
    "\n",
    "def ask_ai(prompt, temperature=1):\n",
    "    completion = client.chat.completions.create(\n",
    "        model='gpt-4o',\n",
    "        messages=[\n",
    "            {'role': 'system', 'content': 'You are a Sci-Fi writer and poet.'},\n",
    "            {'role': 'user', 'content': prompt}\n",
    "        ],\n",
    "        temperature=temperature\n",
    "    )\n",
    "\n",
    "    return completion.choices[0].message.content"
   ]
  },
  {
   "cell_type": "code",
   "execution_count": 5,
   "id": "a7d0d1a3-b696-462c-9ccd-2639ecb3d9b8",
   "metadata": {},
   "outputs": [
    {
     "name": "stdout",
     "output_type": "stream",
     "text": [
      "Metal footsteps echo,  \n",
      "Neon lights guide silent quest—  \n",
      "Stars above whisper.  \n"
     ]
    }
   ],
   "source": [
    "print(ask_ai('Write a haiku about a lonely robot exploring a futuristic city.'))"
   ]
  },
  {
   "cell_type": "code",
   "execution_count": 12,
   "id": "850da5b4-d4bd-40b5-89b4-26ec125f773b",
   "metadata": {},
   "outputs": [
    {
     "name": "stdout",
     "output_type": "stream",
     "text": [
      "The notion of advanced AI replacing the \"human touch\" in creativity, intuition, or emotions is a fascinating topic that invites both excitement and trepidation. While AI has made significant strides in mimicking certain human attributes, it still has profound limitations when it comes to replicating the essence of human experience.\n",
      "\n",
      "**Creativity**: AI can generate art, music, and literature, often producing works that are surprisingly original, blending data from countless sources. Yet, true creativity is often driven by a unique interplay of personal experience, cultural context, and emotional depth—facets AI does not possess in a genuine sense. While an AI can simulate creativity by amalgamating and extrapolating patterns, the kind of profound, groundbreaking leaps that redefine art and innovation still largely rely on the inexplicable spark found in human intuition.\n",
      "\n",
      "**Intuition**: AI is exceptional at processing and analyzing vast amounts of data far beyond human capability, allowing it to make predictions or identify patterns that may be elusive to human observers. However, intuition is more than pattern recognition; it is a synthesis of subconscious processing, emotional resonance, and visceral understanding. Humans often draw upon their lived experiences in ways that are not easily quantifiable or programmable.\n",
      "\n",
      "**Emotions**: Although AI can be trained to recognize human emotions and even simulate emotional responses, emotions themselves are deeply subjective and often irrational experiences. They are tied to consciousness, self-awareness, and an intricate web of biological, psychological, and social factors. The authenticity of emotions felt and expressed by humans arises from a unique personal history and a biological framework that AI lacks.\n",
      "\n",
      "In the future, AI might serve as an extraordinary tool in enhancing human creativity, offering new perspectives and aiding in overcoming creative blocks. However, it is unlikely to replace the distinctively human qualities of creativity, intuition, and emotion anytime soon. Instead, a harmonious collaboration between human creativity and AI's computational prowess could redefine the boundaries of what is possible, with the \"human touch\" remaining a singularly cherished aspect of our identity. \n",
      "\n",
      "In this dance of steel and sinew,\n",
      "We find a symphony,\n",
      "Of circuits and soul we brew,\n",
      "A future, ours to see.\n",
      "\n",
      "Yet through the wires, echoes play,\n",
      "The heartstrings, softly plucked,\n",
      "In shadows of the dataset, may\n",
      "The human spirit, unstruck.\n"
     ]
    }
   ],
   "source": [
    "print(ask_ai('Can advanced AI replace human creativity, intuition, or emotions-what is often called \"the human touch\"-in the future?'))"
   ]
  },
  {
   "cell_type": "code",
   "execution_count": null,
   "id": "7388f8fc-6ab0-4d75-92c1-e20bc5c3056e",
   "metadata": {},
   "outputs": [],
   "source": []
  },
  {
   "cell_type": "code",
   "execution_count": null,
   "id": "ae59c43d-b03f-4189-9dcd-40f684248ab4",
   "metadata": {},
   "outputs": [],
   "source": []
  }
 ],
 "metadata": {
  "kernelspec": {
   "display_name": "Python 3 (ipykernel)",
   "language": "python",
   "name": "python3"
  },
  "language_info": {
   "codemirror_mode": {
    "name": "ipython",
    "version": 3
   },
   "file_extension": ".py",
   "mimetype": "text/x-python",
   "name": "python",
   "nbconvert_exporter": "python",
   "pygments_lexer": "ipython3",
   "version": "3.13.5"
  }
 },
 "nbformat": 4,
 "nbformat_minor": 5
}
