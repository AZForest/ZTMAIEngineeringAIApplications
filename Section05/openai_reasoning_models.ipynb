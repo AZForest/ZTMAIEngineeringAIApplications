{
 "cells": [
  {
   "cell_type": "code",
   "execution_count": null,
   "id": "a481bd30-7a66-4350-a520-c2dc9869d478",
   "metadata": {},
   "outputs": [],
   "source": [
    "from openai import OpenAI\n",
    "client = OpenAI()\n",
    "\n",
    "prompt = \"\"\"\n",
    "Write a bash script that reads a log file where each line is in the format 'YYYY-MM-DD HH:MM:SS\n",
    "- LEVEL - Message' and prints out the count of messages for each log level (e.g., INFO, ERROR, DEBUG).\n",
    "\"\"\"\n",
    "\n",
    "response = client.chat.compleptions.create(\n",
    "    model='o3-mini', # a smaller, faster reasoning model\n",
    "    reasoning_effort='medium',\n",
    "    messages=[\n",
    "        {'role': 'user', 'content': prompt}\n",
    "    ]\n",
    ")\n",
    "\n",
    "print(response.choices[0].message.content"
   ]
  }
 ],
 "metadata": {
  "kernelspec": {
   "display_name": "Python 3 (ipykernel)",
   "language": "python",
   "name": "python3"
  },
  "language_info": {
   "codemirror_mode": {
    "name": "ipython",
    "version": 3
   },
   "file_extension": ".py",
   "mimetype": "text/x-python",
   "name": "python",
   "nbconvert_exporter": "python",
   "pygments_lexer": "ipython3",
   "version": "3.13.5"
  }
 },
 "nbformat": 4,
 "nbformat_minor": 5
}
