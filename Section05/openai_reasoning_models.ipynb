{
 "cells": [
  {
   "cell_type": "code",
   "execution_count": 7,
   "id": "5fc292cc-3780-4c8b-bea4-b57143d82a7b",
   "metadata": {},
   "outputs": [
    {
     "data": {
      "text/plain": [
       "True"
      ]
     },
     "execution_count": 7,
     "metadata": {},
     "output_type": "execute_result"
    }
   ],
   "source": [
    "from dotenv import load_dotenv, find_dotenv\n",
    "load_dotenv(find_dotenv(), override=True)"
   ]
  },
  {
   "cell_type": "code",
   "execution_count": 10,
   "id": "a481bd30-7a66-4350-a520-c2dc9869d478",
   "metadata": {},
   "outputs": [
    {
     "name": "stdout",
     "output_type": "stream",
     "text": [
      "#!/bin/bash\n",
      "# This script reads a log file where each line is in the format:\n",
      "#   YYYY-MM-DD HH:MM:SS - LEVEL - Message\n",
      "# and prints out the count of messages for each log level.\n",
      "#\n",
      "# Usage: ./log_level_counter.sh /path/to/logfile\n",
      "\n",
      "# Check if a file was provided as an argument\n",
      "if [ $# -eq 0 ]; then\n",
      "  echo \"Usage: $0 /path/to/logfile\"\n",
      "  exit 1\n",
      "fi\n",
      "\n",
      "LOG_FILE=\"$1\"\n",
      "\n",
      "# Check if the provided file exists and is readable\n",
      "if [ ! -r \"$LOG_FILE\" ]; then\n",
      "  echo \"Error: File '$LOG_FILE' does not exist or is not readable.\"\n",
      "  exit 2\n",
      "fi\n",
      "\n",
      "# Process the log file using awk:\n",
      "# - The field separator is set to \" - \" (space-dash-space) so that:\n",
      "#     Field1: \"YYYY-MM-DD HH:MM:SS\"\n",
      "#     Field2: \"LEVEL\"\n",
      "#     Field3: \"Message\"\n",
      "#\n",
      "# - We count the occurrences of each log level in an associative array.\n",
      "# - At the end, we iterate over the array and print the counts.\n",
      "awk -F' - ' '{\n",
      "    # Ensure that the line has at least 2 fields.\n",
      "    if (NF >= 2) {\n",
      "        level = $2\n",
      "        count[level]++\n",
      "    }\n",
      "}\n",
      "END {\n",
      "    for (level in count)\n",
      "        printf \"%s: %d\\n\", level, count[level]\n",
      "}' \"$LOG_FILE\"\n",
      "\n",
      "# End of script\n",
      "\n"
     ]
    }
   ],
   "source": [
    "from openai import OpenAI\n",
    "client = OpenAI()\n",
    "\n",
    "prompt = \"\"\"\n",
    "Write a bash script that reads a log file where each line is in the format 'YYYY-MM-DD HH:MM:SS\n",
    "- LEVEL - Message' and prints out the count of messages for each log level (e.g., INFO, ERROR, DEBUG).\n",
    "\"\"\"\n",
    "\n",
    "response = client.chat.completions.create(\n",
    "    model='o3-mini', # a smaller, faster reasoning model\n",
    "    reasoning_effort='medium',\n",
    "    max_completion_tokens = 10000,\n",
    "    messages=[\n",
    "        {'role': 'developer', 'content': 'You are an experienced Bash developer and provide the complete Bash script as your solution.'},\n",
    "        {'role': 'user', 'content': prompt}\n",
    "    ]\n",
    ")\n",
    "\n",
    "print(response.choices[0].message.content)"
   ]
  },
  {
   "cell_type": "code",
   "execution_count": 9,
   "id": "a8e08bda-e78d-4e40-ad0e-cbb6956e1279",
   "metadata": {},
   "outputs": [
    {
     "name": "stdout",
     "output_type": "stream",
     "text": [
      "CompletionUsage(completion_tokens=778, prompt_tokens=59, total_tokens=837, completion_tokens_details=CompletionTokensDetails(accepted_prediction_tokens=0, audio_tokens=0, reasoning_tokens=256, rejected_prediction_tokens=0), prompt_tokens_details=PromptTokensDetails(audio_tokens=0, cached_tokens=0))\n"
     ]
    }
   ],
   "source": [
    "print(response.usage)"
   ]
  },
  {
   "cell_type": "markdown",
   "id": "7d5e4dbc-5ead-4c79-adfd-e5e9d2e28fa2",
   "metadata": {},
   "source": [
    "### Best Practices for Prompting Reasoning Models"
   ]
  },
  {
   "cell_type": "markdown",
   "id": "c7e28f8b-3616-4b8c-9850-9e1557a009ed",
   "metadata": {},
   "source": [
    "#### 1. Use Developer Messages Instead of System Messages"
   ]
  },
  {
   "cell_type": "markdown",
   "id": "4d01a5c8-1bb1-406b-8c7d-3ed4b828fc6d",
   "metadata": {},
   "source": [
    "### 2. Keep Prompts Simple and Direct"
   ]
  },
  {
   "cell_type": "code",
   "execution_count": null,
   "id": "bcfcb64f-cbde-4792-b21c-10c78742889f",
   "metadata": {},
   "outputs": [],
   "source": []
  }
 ],
 "metadata": {
  "kernelspec": {
   "display_name": "Python 3 (ipykernel)",
   "language": "python",
   "name": "python3"
  },
  "language_info": {
   "codemirror_mode": {
    "name": "ipython",
    "version": 3
   },
   "file_extension": ".py",
   "mimetype": "text/x-python",
   "name": "python",
   "nbconvert_exporter": "python",
   "pygments_lexer": "ipython3",
   "version": "3.13.5"
  }
 },
 "nbformat": 4,
 "nbformat_minor": 5
}
