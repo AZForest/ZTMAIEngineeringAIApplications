{
 "cells": [
  {
   "cell_type": "code",
   "execution_count": 16,
   "id": "0ee29030-71e5-416a-b7f4-dcb4d73ce5e8",
   "metadata": {},
   "outputs": [
    {
     "data": {
      "text/plain": [
       "True"
      ]
     },
     "execution_count": 16,
     "metadata": {},
     "output_type": "execute_result"
    }
   ],
   "source": [
    "from openai import OpenAI\n",
    "from dotenv import load_dotenv, find_dotenv\n",
    "load_dotenv(find_dotenv(), override=True)"
   ]
  },
  {
   "cell_type": "code",
   "execution_count": 33,
   "id": "38698bd8-99c8-4e09-9d52-d5dab187fc7b",
   "metadata": {},
   "outputs": [
    {
     "name": "stdout",
     "output_type": "stream",
     "text": [
      "**The Rise and Evolution of Artificial Intelligence**\n"
     ]
    }
   ],
   "source": [
    "\n",
    "\n",
    "\n",
    "client = OpenAI()\n",
    "\n",
    "response = client.chat.completions.create(\n",
    "    model='gpt-3.5-turbo',\n",
    "    messages=[\n",
    "        {'role': 'system', 'content': 'You are a helpful assistant.'},\n",
    "        {'role': 'user', 'content': 'Write an article aobut AI'}\n",
    "    ],\n",
    "    temperature=1.5,\n",
    "    # seed=1234\n",
    "    # top_p=0.1,\n",
    "    # max_tokens=10\n",
    "    # n=5\n",
    "    stop=\"\\n\"\n",
    ")\n",
    "print(response.choices[0].message.content)"
   ]
  },
  {
   "cell_type": "code",
   "execution_count": 32,
   "id": "42bff75c-81c7-463f-bc6e-09ace1d6862c",
   "metadata": {},
   "outputs": [
    {
     "name": "stdout",
     "output_type": "stream",
     "text": [
      "\"Scoops of happiness in every cone.\"\n"
     ]
    }
   ],
   "source": [
    "print(response.choices[1].message.content)"
   ]
  },
  {
   "cell_type": "code",
   "execution_count": null,
   "id": "d35673c5-c895-4d10-882c-3db8621a96b0",
   "metadata": {},
   "outputs": [],
   "source": []
  }
 ],
 "metadata": {
  "kernelspec": {
   "display_name": "Python 3 (ipykernel)",
   "language": "python",
   "name": "python3"
  },
  "language_info": {
   "codemirror_mode": {
    "name": "ipython",
    "version": 3
   },
   "file_extension": ".py",
   "mimetype": "text/x-python",
   "name": "python",
   "nbconvert_exporter": "python",
   "pygments_lexer": "ipython3",
   "version": "3.13.5"
  }
 },
 "nbformat": 4,
 "nbformat_minor": 5
}
